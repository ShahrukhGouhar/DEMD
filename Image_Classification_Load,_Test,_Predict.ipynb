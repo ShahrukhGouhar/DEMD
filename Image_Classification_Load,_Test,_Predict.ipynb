{
  "nbformat": 4,
  "nbformat_minor": 0,
  "metadata": {
    "colab": {
      "name": "Image Classification Load, Test, Predict",
      "provenance": [],
      "collapsed_sections": [],
      "include_colab_link": true
    },
    "kernelspec": {
      "name": "python3",
      "display_name": "Python 3"
    }
  },
  "cells": [
    {
      "cell_type": "markdown",
      "metadata": {
        "id": "view-in-github",
        "colab_type": "text"
      },
      "source": [
        "<a href=\"https://colab.research.google.com/github/ShahrukhGouhar/DEMD/blob/main/Image_Classification_Load%2C_Test%2C_Predict.ipynb\" target=\"_parent\"><img src=\"https://colab.research.google.com/assets/colab-badge.svg\" alt=\"Open In Colab\"/></a>"
      ]
    },
    {
      "cell_type": "markdown",
      "metadata": {
        "id": "-SCbnbqkYEz8"
      },
      "source": [
        "![alt text](https://4.bp.blogspot.com/-gbL5nZDkpFQ/XScFYwoTEII/AAAAAAAAAGY/CcVb_HDLwvs2Brv5T4vSsUcz7O4r2Q79ACK4BGAYYCw/s1600/kk3-header00-beta.png)<br>\n",
        "\n",
        "\n",
        "<hr>\n",
        "\n",
        "[Prithwis Mukerjee](http://www.linkedin.com/in/prithwis)<br>"
      ]
    },
    {
      "cell_type": "markdown",
      "metadata": {
        "id": "BBVMzzJJJy94"
      },
      "source": [
        "https://blog.hyperiondev.com/index.php/2019/02/18/machine-learning/"
      ]
    },
    {
      "cell_type": "markdown",
      "metadata": {
        "id": "74DT8K0FNObT"
      },
      "source": [
        "#Data"
      ]
    },
    {
      "cell_type": "code",
      "metadata": {
        "colab": {
          "base_uri": "https://localhost:8080/"
        },
        "id": "xI_SoEwXNJum",
        "outputId": "89b2903b-0673-4d2a-fc5b-83bded00b29c"
      },
      "source": [
        "#get the data\n",
        "!wget http://ufldl.stanford.edu/housenumbers/train_32x32.mat"
      ],
      "execution_count": 1,
      "outputs": [
        {
          "output_type": "stream",
          "text": [
            "--2021-08-26 04:29:19--  http://ufldl.stanford.edu/housenumbers/train_32x32.mat\n",
            "Resolving ufldl.stanford.edu (ufldl.stanford.edu)... 171.64.68.10\n",
            "Connecting to ufldl.stanford.edu (ufldl.stanford.edu)|171.64.68.10|:80... connected.\n",
            "HTTP request sent, awaiting response... 200 OK\n",
            "Length: 182040794 (174M) [text/plain]\n",
            "Saving to: ‘train_32x32.mat’\n",
            "\n",
            "train_32x32.mat     100%[===================>] 173.61M  20.5MB/s    in 11s     \n",
            "\n",
            "2021-08-26 04:29:30 (16.4 MB/s) - ‘train_32x32.mat’ saved [182040794/182040794]\n",
            "\n"
          ],
          "name": "stdout"
        }
      ]
    },
    {
      "cell_type": "code",
      "metadata": {
        "id": "SrzkfzVWNU4-"
      },
      "source": [
        "#Feature Processing\n",
        "import sklearn\n",
        "import scipy.io\n",
        "import numpy as np\n",
        "import matplotlib.pyplot as plt\n",
        "%matplotlib inline"
      ],
      "execution_count": 2,
      "outputs": []
    },
    {
      "cell_type": "code",
      "metadata": {
        "id": "lqfF9nLFNkFw"
      },
      "source": [
        "# load our dataset\n",
        "train_data = scipy.io.loadmat('train_32x32.mat')\n",
        "# extract the images and labels from the dictionary object\n",
        "X = train_data['X']\n",
        "y = train_data['y']"
      ],
      "execution_count": 3,
      "outputs": []
    },
    {
      "cell_type": "code",
      "metadata": {
        "id": "JLTY7Jt1N2Zh"
      },
      "source": [
        "from sklearn.utils import shuffle\n",
        "X = X.reshape(X.shape[0]*X.shape[1]*X.shape[2],X.shape[3]).T\n",
        "y = y.reshape(y.shape[0],)\n",
        "X, y = shuffle(X, y, random_state=42)"
      ],
      "execution_count": 4,
      "outputs": []
    },
    {
      "cell_type": "code",
      "metadata": {
        "id": "mfw_K-K0NsGp"
      },
      "source": [
        "from sklearn.model_selection import train_test_split\n",
        "X_train, X_test, y_train, y_test = train_test_split(X, y, test_size=0.2, random_state=42)\n"
      ],
      "execution_count": 5,
      "outputs": []
    },
    {
      "cell_type": "markdown",
      "metadata": {
        "id": "SSXwXP7MDRjF"
      },
      "source": [
        "##Retrieve"
      ]
    },
    {
      "cell_type": "code",
      "metadata": {
        "colab": {
          "base_uri": "https://localhost:8080/"
        },
        "id": "46BoLlkdBqmZ",
        "outputId": "2ca25d9e-f817-4346-dd8b-06837e0e3c6e"
      },
      "source": [
        "#instead we download from https://drive.google.com/file/d/16l-3moLo4S-f87C6Nw9JxPPuCuXvJrso/view?usp=sharing\n",
        "!gdown https://drive.google.com/uc?id=16l-3moLo4S-f87C6Nw9JxPPuCuXvJrso"
      ],
      "execution_count": 6,
      "outputs": [
        {
          "output_type": "stream",
          "text": [
            "Downloading...\n",
            "From: https://drive.google.com/uc?id=16l-3moLo4S-f87C6Nw9JxPPuCuXvJrso\n",
            "To: /content/imClass-model-100221.pkl\n",
            "337MB [00:03, 93.8MB/s]\n"
          ],
          "name": "stdout"
        }
      ]
    },
    {
      "cell_type": "code",
      "metadata": {
        "id": "xRGiKh_vHJs_"
      },
      "source": [
        "import joblib\n",
        "clf_03 = joblib.load('imClass-model-100221.pkl')"
      ],
      "execution_count": 7,
      "outputs": []
    },
    {
      "cell_type": "markdown",
      "metadata": {
        "id": "IhFRDgs2P-P5"
      },
      "source": [
        "#ML Test"
      ]
    },
    {
      "cell_type": "code",
      "metadata": {
        "id": "TLxffKXTO8YV",
        "colab": {
          "base_uri": "https://localhost:8080/"
        },
        "outputId": "418d9f8a-bd14-472f-f7bf-4cb435837165"
      },
      "source": [
        "from sklearn.metrics import accuracy_score\n",
        "preds = clf_03.predict(X_test)\n",
        "print(\"Accuracy:\", accuracy_score(y_test,preds))"
      ],
      "execution_count": 8,
      "outputs": [
        {
          "output_type": "stream",
          "text": [
            "Accuracy: 0.7080262080262081\n"
          ],
          "name": "stdout"
        }
      ]
    },
    {
      "cell_type": "markdown",
      "metadata": {
        "id": "zoGiHIBtRkg4"
      },
      "source": [
        "#Test Individual Files \n",
        "https://github.com/elliebirbeck/model-deployment-flask/tree/master/test-imgs"
      ]
    },
    {
      "cell_type": "code",
      "metadata": {
        "id": "qHjupZOdS1vk"
      },
      "source": [
        "import numpy as np\n",
        "#from scipy import misc\n",
        "import imageio"
      ],
      "execution_count": 9,
      "outputs": []
    },
    {
      "cell_type": "code",
      "metadata": {
        "colab": {
          "base_uri": "https://localhost:8080/"
        },
        "id": "ElzkK0ZyE900",
        "outputId": "96a18c73-0c41-45c6-f8b6-7de8961130df"
      },
      "source": [
        "!wget https://github.com/elliebirbeck/model-deployment-flask/raw/master/test-imgs/test-4.png\n",
        "!wget https://github.com/elliebirbeck/model-deployment-flask/raw/master/test-imgs/test-7.png"
      ],
      "execution_count": 20,
      "outputs": [
        {
          "output_type": "stream",
          "text": [
            "--2021-08-26 04:31:33--  https://github.com/elliebirbeck/model-deployment-flask/raw/master/test-imgs/test-4.png\n",
            "Resolving github.com (github.com)... 13.114.40.48\n",
            "Connecting to github.com (github.com)|13.114.40.48|:443... connected.\n",
            "HTTP request sent, awaiting response... 302 Found\n",
            "Location: https://raw.githubusercontent.com/elliebirbeck/model-deployment-flask/master/test-imgs/test-4.png [following]\n",
            "--2021-08-26 04:31:33--  https://raw.githubusercontent.com/elliebirbeck/model-deployment-flask/master/test-imgs/test-4.png\n",
            "Resolving raw.githubusercontent.com (raw.githubusercontent.com)... 185.199.110.133, 185.199.108.133, 185.199.111.133, ...\n",
            "Connecting to raw.githubusercontent.com (raw.githubusercontent.com)|185.199.110.133|:443... connected.\n",
            "HTTP request sent, awaiting response... 200 OK\n",
            "Length: 2177 (2.1K) [image/png]\n",
            "Saving to: ‘test-4.png’\n",
            "\n",
            "test-4.png          100%[===================>]   2.13K  --.-KB/s    in 0s      \n",
            "\n",
            "2021-08-26 04:31:34 (34.6 MB/s) - ‘test-4.png’ saved [2177/2177]\n",
            "\n",
            "--2021-08-26 04:31:34--  https://github.com/elliebirbeck/model-deployment-flask/raw/master/test-imgs/test-7.png\n",
            "Resolving github.com (github.com)... 52.192.72.89\n",
            "Connecting to github.com (github.com)|52.192.72.89|:443... connected.\n",
            "HTTP request sent, awaiting response... 302 Found\n",
            "Location: https://raw.githubusercontent.com/elliebirbeck/model-deployment-flask/master/test-imgs/test-7.png [following]\n",
            "--2021-08-26 04:31:34--  https://raw.githubusercontent.com/elliebirbeck/model-deployment-flask/master/test-imgs/test-7.png\n",
            "Resolving raw.githubusercontent.com (raw.githubusercontent.com)... 185.199.108.133, 185.199.109.133, 185.199.110.133, ...\n",
            "Connecting to raw.githubusercontent.com (raw.githubusercontent.com)|185.199.108.133|:443... connected.\n",
            "HTTP request sent, awaiting response... 200 OK\n",
            "Length: 1877 (1.8K) [image/png]\n",
            "Saving to: ‘test-7.png.1’\n",
            "\n",
            "test-7.png.1        100%[===================>]   1.83K  --.-KB/s    in 0s      \n",
            "\n",
            "2021-08-26 04:31:34 (19.5 MB/s) - ‘test-7.png.1’ saved [1877/1877]\n",
            "\n"
          ],
          "name": "stdout"
        }
      ]
    },
    {
      "cell_type": "code",
      "metadata": {
        "id": "ERndiACwQHFK"
      },
      "source": [
        "\n",
        "img0 = imageio.imread(\"test-4.png\")\n",
        "img1 = img0[:,:,:3]\n",
        "img2 = img1.reshape(1, -1)"
      ],
      "execution_count": 21,
      "outputs": []
    },
    {
      "cell_type": "code",
      "metadata": {
        "id": "AFDymAb4Vwdi",
        "colab": {
          "base_uri": "https://localhost:8080/"
        },
        "outputId": "c5b38fb5-1313-4be3-ad9e-8d7be0e00cd5"
      },
      "source": [
        "img2"
      ],
      "execution_count": 22,
      "outputs": [
        {
          "output_type": "execute_result",
          "data": {
            "text/plain": [
              "Array([[122,  57,  41, ..., 130,  65,  51]], dtype=uint8)"
            ]
          },
          "metadata": {},
          "execution_count": 22
        }
      ]
    },
    {
      "cell_type": "code",
      "metadata": {
        "id": "Zaa-qaPqTiLw",
        "colab": {
          "base_uri": "https://localhost:8080/",
          "height": 283
        },
        "outputId": "b4551c29-9881-4f7c-90a6-22669a2e926a"
      },
      "source": [
        "#plt.imshow(X[:,:,:,img_index])\n",
        "plt.imshow(img0)"
      ],
      "execution_count": 23,
      "outputs": [
        {
          "output_type": "execute_result",
          "data": {
            "text/plain": [
              "<matplotlib.image.AxesImage at 0x7ff10f22c790>"
            ]
          },
          "metadata": {},
          "execution_count": 23
        },
        {
          "output_type": "display_data",
          "data": {
            "image/png": "[encoded data removed]",
            "text/plain": [
              "<Figure size 432x288 with 1 Axes>"
            ]
          },
          "metadata": {
            "needs_background": "light"
          }
        }
      ]
    },
    {
      "cell_type": "code",
      "metadata": {
        "id": "u0jHJMLzVBo9"
      },
      "source": [
        "prediction = clf_03.predict(img2)"
      ],
      "execution_count": 24,
      "outputs": []
    },
    {
      "cell_type": "code",
      "metadata": {
        "id": "7E6DYWJ7uWv0",
        "outputId": "728d37d9-b7d9-45ff-82f9-7f5aae587599",
        "colab": {
          "base_uri": "https://localhost:8080/"
        }
      },
      "source": [
        "prediction"
      ],
      "execution_count": 25,
      "outputs": [
        {
          "output_type": "execute_result",
          "data": {
            "text/plain": [
              "array([4], dtype=uint8)"
            ]
          },
          "metadata": {},
          "execution_count": 25
        }
      ]
    },
    {
      "cell_type": "code",
      "metadata": {
        "id": "UBjErI_LVS-S"
      },
      "source": [
        "label = str(np.squeeze(prediction))"
      ],
      "execution_count": 26,
      "outputs": []
    },
    {
      "cell_type": "code",
      "metadata": {
        "id": "IWACAQtoVY5f",
        "colab": {
          "base_uri": "https://localhost:8080/",
          "height": 35
        },
        "outputId": "e089a6ce-c59a-4d92-9d9e-fea715dd6222"
      },
      "source": [
        "label"
      ],
      "execution_count": 27,
      "outputs": [
        {
          "output_type": "execute_result",
          "data": {
            "application/vnd.google.colaboratory.intrinsic+json": {
              "type": "string"
            },
            "text/plain": [
              "'4'"
            ]
          },
          "metadata": {},
          "execution_count": 27
        }
      ]
    },
    {
      "cell_type": "code",
      "metadata": {
        "id": "unDr-FnmXK7o",
        "colab": {
          "base_uri": "https://localhost:8080/"
        },
        "outputId": "aafe34e0-9c9a-4159-f6c0-7efcf05fb134"
      },
      "source": [
        "print(str(np.squeeze(clf_03.predict(img2))))"
      ],
      "execution_count": 28,
      "outputs": [
        {
          "output_type": "stream",
          "text": [
            "4\n"
          ],
          "name": "stdout"
        }
      ]
    },
    {
      "cell_type": "code",
      "metadata": {
        "id": "tfXcLO11XiLj",
        "colab": {
          "base_uri": "https://localhost:8080/"
        },
        "outputId": "dc06f221-53a5-4347-f1f4-be145dd41245"
      },
      "source": [
        "#now to make it completely unreadable\n",
        "print(str(np.squeeze(clf_03.predict(img0[:,:,:3].reshape(1, -1)))))"
      ],
      "execution_count": 29,
      "outputs": [
        {
          "output_type": "stream",
          "text": [
            "4\n"
          ],
          "name": "stdout"
        }
      ]
    },
    {
      "cell_type": "code",
      "metadata": {
        "id": "DLsKiaSiYRK1",
        "colab": {
          "base_uri": "https://localhost:8080/"
        },
        "outputId": "8cb71abf-20a9-4389-f846-3a00e86f18a7"
      },
      "source": [
        "print(str(np.squeeze(clf_03.predict(imageio.imread(\"test-4.png\")[:,:,:3].reshape(1, -1)))))"
      ],
      "execution_count": 32,
      "outputs": [
        {
          "output_type": "stream",
          "text": [
            "4\n"
          ],
          "name": "stdout"
        }
      ]
    },
    {
      "cell_type": "code",
      "metadata": {
        "colab": {
          "base_uri": "https://localhost:8080/"
        },
        "id": "BsM_YyCpOTfq",
        "outputId": "38c8474d-38a1-438c-a250-486a69f838be"
      },
      "source": [
        "print(str(np.squeeze(clf_03.predict(imageio.imread(\"test-5.png\")[:,:,:3].reshape(1, -1)))))"
      ],
      "execution_count": 33,
      "outputs": [
        {
          "output_type": "stream",
          "text": [
            "5\n"
          ],
          "name": "stdout"
        }
      ]
    },
    {
      "cell_type": "markdown",
      "metadata": {
        "id": "YvhqDWPOYM4V"
      },
      "source": [
        "#Chronobooks <br>\n",
        "![alt text](https://1.bp.blogspot.com/-lTiYBkU2qbU/X1er__fvnkI/AAAAAAAAjtE/GhDR3OEGJr4NG43fZPodrQD5kbxtnKebgCLcBGAsYHQ/s600/Footer2020-600x200.png)<hr>\n",
        "Chronotantra and Chronoyantra are two science fiction novels that explore the collapse of human civilisation on Earth and then its rebirth and reincarnation both on Earth as well as on the distant worlds of Mars, Titan and Enceladus. But is it the human civilisation that is being reborn? Or is it some other sentience that is revealing itself. \n",
        "If you have an interest in AI and found this material useful, you may consider buying these novels, in paperback or kindle, from [http://bit.ly/chronobooks](http://bit.ly/chronobooks)"
      ]
    }
  ]
}